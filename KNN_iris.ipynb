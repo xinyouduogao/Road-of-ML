{
  "nbformat": 4,
  "nbformat_minor": 0,
  "metadata": {
    "colab": {
      "name": "KNN-iris.ipynb",
      "version": "0.3.2",
      "provenance": [],
      "collapsed_sections": [],
      "include_colab_link": true
    },
    "kernelspec": {
      "name": "python3",
      "display_name": "Python 3"
    }
  },
  "cells": [
    {
      "cell_type": "markdown",
      "metadata": {
        "id": "view-in-github",
        "colab_type": "text"
      },
      "source": [
        "<a href=\"https://colab.research.google.com/github/xinyouduogao/Road-of-ML/blob/master/KNN_iris.ipynb\" target=\"_parent\"><img src=\"https://colab.research.google.com/assets/colab-badge.svg\" alt=\"Open In Colab\"/></a>"
      ]
    },
    {
      "metadata": {
        "id": "nneDZEYfWfUh",
        "colab_type": "code",
        "colab": {
          "base_uri": "https://localhost:8080/",
          "height": 111
        },
        "outputId": "ae4b1529-1499-4a9d-9918-781b9b06a0f0"
      },
      "cell_type": "code",
      "source": [
        "import numpy as np \n",
        "import pandas as pd\n",
        "import matplotlib.pyplot as plt\n",
        "from sklearn import datasets\n",
        "scikit_iris = datasets.load_iris()\n",
        "iris = pd.DataFrame(\n",
        "     data = np.c_[scikit_iris['data'],scikit_iris['target']],\n",
        "     columns = np.append(scikit_iris.feature_names,['y']))\n",
        "iris.head(2)"
      ],
      "execution_count": 1,
      "outputs": [
        {
          "output_type": "execute_result",
          "data": {
            "text/html": [
              "<div>\n",
              "<style scoped>\n",
              "    .dataframe tbody tr th:only-of-type {\n",
              "        vertical-align: middle;\n",
              "    }\n",
              "\n",
              "    .dataframe tbody tr th {\n",
              "        vertical-align: top;\n",
              "    }\n",
              "\n",
              "    .dataframe thead th {\n",
              "        text-align: right;\n",
              "    }\n",
              "</style>\n",
              "<table border=\"1\" class=\"dataframe\">\n",
              "  <thead>\n",
              "    <tr style=\"text-align: right;\">\n",
              "      <th></th>\n",
              "      <th>sepal length (cm)</th>\n",
              "      <th>sepal width (cm)</th>\n",
              "      <th>petal length (cm)</th>\n",
              "      <th>petal width (cm)</th>\n",
              "      <th>y</th>\n",
              "    </tr>\n",
              "  </thead>\n",
              "  <tbody>\n",
              "    <tr>\n",
              "      <th>0</th>\n",
              "      <td>5.1</td>\n",
              "      <td>3.5</td>\n",
              "      <td>1.4</td>\n",
              "      <td>0.2</td>\n",
              "      <td>0.0</td>\n",
              "    </tr>\n",
              "    <tr>\n",
              "      <th>1</th>\n",
              "      <td>4.9</td>\n",
              "      <td>3.0</td>\n",
              "      <td>1.4</td>\n",
              "      <td>0.2</td>\n",
              "      <td>0.0</td>\n",
              "    </tr>\n",
              "  </tbody>\n",
              "</table>\n",
              "</div>"
            ],
            "text/plain": [
              "   sepal length (cm)  sepal width (cm)  petal length (cm)  petal width (cm)  \\\n",
              "0                5.1               3.5                1.4               0.2   \n",
              "1                4.9               3.0                1.4               0.2   \n",
              "\n",
              "     y  \n",
              "0  0.0  \n",
              "1  0.0  "
            ]
          },
          "metadata": {
            "tags": []
          },
          "execution_count": 1
        }
      ]
    },
    {
      "metadata": {
        "id": "8-kYO3u5Xq6T",
        "colab_type": "code",
        "colab": {
          "base_uri": "https://localhost:8080/",
          "height": 119
        },
        "outputId": "a5431275-c5b6-4093-a5a7-dfdf8c3db603"
      },
      "cell_type": "code",
      "source": [
        "iris.isnull().sum()#check null\n"
      ],
      "execution_count": 2,
      "outputs": [
        {
          "output_type": "execute_result",
          "data": {
            "text/plain": [
              "sepal length (cm)    0\n",
              "sepal width (cm)     0\n",
              "petal length (cm)    0\n",
              "petal width (cm)     0\n",
              "y                    0\n",
              "dtype: int64"
            ]
          },
          "metadata": {
            "tags": []
          },
          "execution_count": 2
        }
      ]
    },
    {
      "metadata": {
        "id": "zGhQRFrHXzeO",
        "colab_type": "code",
        "colab": {
          "base_uri": "https://localhost:8080/",
          "height": 173
        },
        "outputId": "fb882973-2295-449a-de01-d1638f3c30cc"
      },
      "cell_type": "code",
      "source": [
        "iris.groupby('y').count()"
      ],
      "execution_count": 3,
      "outputs": [
        {
          "output_type": "execute_result",
          "data": {
            "text/html": [
              "<div>\n",
              "<style scoped>\n",
              "    .dataframe tbody tr th:only-of-type {\n",
              "        vertical-align: middle;\n",
              "    }\n",
              "\n",
              "    .dataframe tbody tr th {\n",
              "        vertical-align: top;\n",
              "    }\n",
              "\n",
              "    .dataframe thead th {\n",
              "        text-align: right;\n",
              "    }\n",
              "</style>\n",
              "<table border=\"1\" class=\"dataframe\">\n",
              "  <thead>\n",
              "    <tr style=\"text-align: right;\">\n",
              "      <th></th>\n",
              "      <th>sepal length (cm)</th>\n",
              "      <th>sepal width (cm)</th>\n",
              "      <th>petal length (cm)</th>\n",
              "      <th>petal width (cm)</th>\n",
              "    </tr>\n",
              "    <tr>\n",
              "      <th>y</th>\n",
              "      <th></th>\n",
              "      <th></th>\n",
              "      <th></th>\n",
              "      <th></th>\n",
              "    </tr>\n",
              "  </thead>\n",
              "  <tbody>\n",
              "    <tr>\n",
              "      <th>0.0</th>\n",
              "      <td>50</td>\n",
              "      <td>50</td>\n",
              "      <td>50</td>\n",
              "      <td>50</td>\n",
              "    </tr>\n",
              "    <tr>\n",
              "      <th>1.0</th>\n",
              "      <td>50</td>\n",
              "      <td>50</td>\n",
              "      <td>50</td>\n",
              "      <td>50</td>\n",
              "    </tr>\n",
              "    <tr>\n",
              "      <th>2.0</th>\n",
              "      <td>50</td>\n",
              "      <td>50</td>\n",
              "      <td>50</td>\n",
              "      <td>50</td>\n",
              "    </tr>\n",
              "  </tbody>\n",
              "</table>\n",
              "</div>"
            ],
            "text/plain": [
              "     sepal length (cm)  sepal width (cm)  petal length (cm)  petal width (cm)\n",
              "y                                                                            \n",
              "0.0                 50                50                 50                50\n",
              "1.0                 50                50                 50                50\n",
              "2.0                 50                50                 50                50"
            ]
          },
          "metadata": {
            "tags": []
          },
          "execution_count": 3
        }
      ]
    },
    {
      "metadata": {
        "id": "XCJ7pzRCX_nY",
        "colab_type": "code",
        "colab": {
          "base_uri": "https://localhost:8080/",
          "height": 34
        },
        "outputId": "62ba5002-1c3d-40cf-c140-cc629ee529e1"
      },
      "cell_type": "code",
      "source": [
        "X = iris[scikit_iris.feature_names]\n",
        "y = iris['y']\n",
        "from sklearn.neighbors import KNeighborsClassifier\n",
        "knn = KNeighborsClassifier(n_neighbors=1)\n",
        "knn.fit(X,y)\n",
        "knn.predict([[1,2,2,5]]) #predict the class"
      ],
      "execution_count": 8,
      "outputs": [
        {
          "output_type": "execute_result",
          "data": {
            "text/plain": [
              "array([2.])"
            ]
          },
          "metadata": {
            "tags": []
          },
          "execution_count": 8
        }
      ]
    },
    {
      "metadata": {
        "id": "K-0eZlR9ZJjn",
        "colab_type": "code",
        "colab": {
          "base_uri": "https://localhost:8080/",
          "height": 34
        },
        "outputId": "8c3ce3d0-89e1-4c0b-86a7-ba7a1a7e4c76"
      },
      "cell_type": "code",
      "source": [
        "#evaluate the model\n",
        "from sklearn.model_selection import train_test_split\n",
        "from sklearn import metrics\n",
        "\n",
        "X_train , X_test , Y_train , Y_test = train_test_split(X,y,random_state=4)\n",
        "knn = knn = KNeighborsClassifier(n_neighbors=15)\n",
        "knn.fit(X_train , Y_train)\n",
        "Y_pred_on_train = knn.predict(X_train)\n",
        "Y_pred_on_test = knn.predict(X_test)\n",
        "#print metrics.accuracy_score(Y_train,Y_pred_on_train)\n",
        "print('accuracy:{}'.format(metrics.accuracy_score(Y_test,Y_pred_on_test)))"
      ],
      "execution_count": 14,
      "outputs": [
        {
          "output_type": "stream",
          "text": [
            "accuracy:0.9736842105263158\n"
          ],
          "name": "stdout"
        }
      ]
    },
    {
      "metadata": {
        "id": "KDKziaTBggIc",
        "colab_type": "code",
        "colab": {}
      },
      "cell_type": "code",
      "source": [
        "#!/usr/bin/python\n",
        "# coding=utf-8\n",
        "#########################################\n",
        "# kNN: k Nearest Neighbors\n",
        "\n",
        "#  输入:      newInput:  (1xN)的待分类向量\n",
        "#             dataSet:   (NxM)的训练数据集\n",
        "#             labels:     训练数据集的类别标签向量\n",
        "#             k:         近邻数\n",
        "\n",
        "# 输出:     可能性最大的分类标签\n",
        "#########################################\n",
        "\n",
        "from numpy import *\n",
        "import operator\n",
        "\n",
        "# 创建一个数据集，包含2个类别共4个样本\n",
        "def createDataSet():\n",
        "    # 生成一个矩阵，每行表示一个样本\n",
        "    group = array([[1.0, 0.9], [1.0, 1.0], [0.1, 0.2], [0.0, 0.1]])\n",
        "    # 4个样本分别所属的类别\n",
        "    labels = ['A', 'A', 'B', 'B']\n",
        "    return group, labels\n",
        "\n",
        "# KNN分类算法函数定义\n",
        "def kNNClassify(newInput, dataSet, labels, k):\n",
        "    numSamples = dataSet.shape[0]   # shape[0]表示行数\n",
        "\n",
        "    # # step 1: 计算距离[\n",
        "    # 假如：\n",
        "    # Newinput：[1,0,2]\n",
        "    # Dataset:\n",
        "    # [1,0,1]\n",
        "    # [2,1,3]\n",
        "    # [1,0,2]\n",
        "    # 计算过程即为：\n",
        "    # 1、求差\n",
        "    # [1,0,1]       [1,0,2]\n",
        "    # [2,1,3]   --   [1,0,2]\n",
        "    # [1,0,2]       [1,0,2]\n",
        "    # =\n",
        "    # [0,0,-1]\n",
        "    # [1,1,1]\n",
        "    # [0,0,-1]\n",
        "    # 2、对差值平方\n",
        "    # [0,0,1]\n",
        "    # [1,1,1]\n",
        "    # [0,0,1]\n",
        "    # 3、将平方后的差值累加\n",
        "    # [1]\n",
        "    # [3]\n",
        "    # [1]\n",
        "    # 4、将上一步骤的值求开方，即得距离\n",
        "    # [1]\n",
        "    # [1.73]\n",
        "    # [1]\n",
        "    #\n",
        "    # ]\n",
        "    # tile(A, reps): 构造一个矩阵，通过A重复reps次得到\n",
        "    # the following copy numSamples rows for dataSet\n",
        "    diff = tile(newInput, (numSamples, 1)) - dataSet  # 按元素求差值\n",
        "    squaredDiff = diff ** 2  # 将差值平方\n",
        "    squaredDist = sum(squaredDiff, axis = 1)   # 按行累加\n",
        "    distance = squaredDist ** 0.5  # 将差值平方和求开方，即得距离\n",
        "\n",
        "    # # step 2: 对距离排序\n",
        "    # argsort() 返回排序后的索引值\n",
        "    sortedDistIndices = argsort(distance)\n",
        "    classCount = {} # define a dictionary (can be append element)\n",
        "    for i in range(k):\n",
        "        # # step 3: 选择k个最近邻\n",
        "        voteLabel = labels[sortedDistIndices[i]]\n",
        "\n",
        "        # # step 4: 计算k个最近邻中各类别出现的次数\n",
        "        # when the key voteLabel is not in dictionary classCount, get()\n",
        "        # will return 0\n",
        "        classCount[voteLabel] = classCount.get(voteLabel, 0) + 1\n",
        "\n",
        "    # # step 5: 返回出现次数最多的类别标签\n",
        "    maxCount = 0\n",
        "    for key, value in classCount.items():\n",
        "        if value > maxCount:\n",
        "            maxCount = value\n",
        "            maxIndex = key\n",
        "\n",
        "    return maxIndex"
      ],
      "execution_count": 0,
      "outputs": []
    },
    {
      "metadata": {
        "id": "IUa36T35hCTI",
        "colab_type": "code",
        "colab": {
          "base_uri": "https://localhost:8080/",
          "height": 51
        },
        "outputId": "9e4adcf7-d7f2-4d48-bb41-c7eeae71578f"
      },
      "cell_type": "code",
      "source": [
        "dataSet, labels = createDataSet()\n",
        "# 定义一个未知类别的数据\n",
        "testX = array([1.2, 1.0])\n",
        "k = 3\n",
        "# 调用分类函数对未知数据分类\n",
        "outputLabel =kNNClassify(testX, dataSet, labels, 3)\n",
        "print(\"Your input is:\", testX, \"and classified to class: \", outputLabel)\n",
        "\n",
        "testX = array([0.1, 0.3])\n",
        "outputLabel = kNNClassify(testX, dataSet, labels, 3)\n",
        "print(\"Your input is:\", testX, \"and classified to class: \", outputLabel)"
      ],
      "execution_count": 31,
      "outputs": [
        {
          "output_type": "stream",
          "text": [
            "Your input is: [1.2 1. ] and classified to class:  A\n",
            "Your input is: [0.1 0.3] and classified to class:  B\n"
          ],
          "name": "stdout"
        }
      ]
    }
  ]
}